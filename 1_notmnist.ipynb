{
  "nbformat": 4,
  "nbformat_minor": 0,
  "metadata": {
    "colab": {
      "name": "1_notmnist.ipynb",
      "version": "0.3.2",
      "provenance": [],
      "include_colab_link": true
    }
  },
  "cells": [
    {
      "cell_type": "markdown",
      "metadata": {
        "id": "view-in-github",
        "colab_type": "text"
      },
      "source": [
        "[View in Colaboratory](https://colab.research.google.com/github/vmartinezalvarez/Deep-Learning-by-Google_UDACITY/blob/master/1_notmnist.ipynb)"
      ]
    },
    {
      "metadata": {
        "id": "qSmqb3f5AFNE",
        "colab_type": "text"
      },
      "cell_type": "markdown",
      "source": [
        "# 7 Steps of Machine Learning\n",
        "\n",
        "\n",
        "\n",
        "1.   **Gathering Data **\n",
        "2.  ** Preparing that Data**\n",
        "3.   **Chosing a Model**\n",
        "4.   **Training **\n",
        "5.   **Evaluating**\n",
        "6.   **Hiperparameters tuning**\n",
        "7.   **Prediction**\n",
        "\n",
        "\n"
      ]
    },
    {
      "metadata": {
        "id": "5hIbr52I7Z7U",
        "colab_type": "text"
      },
      "cell_type": "markdown",
      "source": [
        "Deep Learning\n",
        "=============\n",
        "\n",
        "Assignment 1\n",
        "------------\n",
        "\n",
        "The objective of this assignment is to learn about simple data curation practices, and familiarize you with some of the data we'll be reusing later.\n",
        "\n",
        "This notebook uses the [notMNIST](http://yaroslavvb.blogspot.com/2011/09/notmnist-dataset.html) dataset to be used with python experiments. This dataset is designed to look like the classic [MNIST](http://yann.lecun.com/exdb/mnist/) dataset, while looking a little more like real data: it's a harder task, and the data is a lot less 'clean' than MNIST."
      ]
    },
    {
      "metadata": {
        "id": "-8m7lEhqViMF",
        "colab_type": "code",
        "colab": {}
      },
      "cell_type": "code",
      "source": [
        "!pip install imageio\n",
        "!pip install --upgrade pip"
      ],
      "execution_count": 0,
      "outputs": []
    },
    {
      "metadata": {
        "id": "aHZBesLD_TjM",
        "colab_type": "text"
      },
      "cell_type": "markdown",
      "source": [
        "## Importing modules"
      ]
    },
    {
      "metadata": {
        "id": "apJbCsBHl-2A",
        "colab_type": "code",
        "colab": {}
      },
      "cell_type": "code",
      "source": [
        "# These are all the modules we'll be using later. Make sure you can import them\n",
        "# before proceeding further.\n",
        "from __future__ import print_function\n",
        "import imageio\n",
        "import matplotlib.pyplot as plt\n",
        "import numpy as np\n",
        "import pandas as pd\n",
        "import os\n",
        "import sys\n",
        "import tarfile\n",
        "from IPython.display import display, Image\n",
        "from sklearn.linear_model import LogisticRegression\n",
        "from six.moves.urllib.request import urlretrieve\n",
        "from six.moves import cPickle as pickle\n",
        "\n",
        "# Config the matplotlib backend as plotting inline in IPython\n",
        "%matplotlib inline"
      ],
      "execution_count": 0,
      "outputs": []
    },
    {
      "metadata": {
        "id": "jNWGtZaXn-5j",
        "colab_type": "text"
      },
      "cell_type": "markdown",
      "source": [
        "First, we'll download the dataset to our local machine. The data consists of characters rendered in a variety of fonts on a 28x28 image. The labels are limited to 'A' through 'J' (10 classes). The training set has about 500k and the testset 19000 labeled examples. Given these sizes, it should be possible to train models quickly on any machine."
      ]
    },
    {
      "metadata": {
        "id": "EYRJ4ICW6-da",
        "colab_type": "code",
        "colab": {
          "base_uri": "https://localhost:8080/",
          "height": 179
        },
        "outputId": "b66b79da-58a1-4936-906b-7667fbe041d8"
      },
      "cell_type": "code",
      "source": [
        "url = 'https://commondatastorage.googleapis.com/books1000/'\n",
        "last_percent_reported = None\n",
        "data_root = '.' # Change me to store data elsewhere\n",
        "\n",
        "def download_progress_hook(count, blockSize, totalSize):\n",
        "  \"\"\"A hook to report the progress of a download. This is mostly intended for users with\n",
        "  slow internet connections. Reports every 5% change in download progress.\n",
        "  \"\"\"\n",
        "  global last_percent_reported\n",
        "  percent = int(count * blockSize * 100 / totalSize)\n",
        "\n",
        "  if last_percent_reported != percent:\n",
        "    if percent % 5 == 0:\n",
        "      sys.stdout.write(\"%s%%\" % percent)\n",
        "      sys.stdout.flush()\n",
        "    else:\n",
        "      sys.stdout.write(\".\")\n",
        "      sys.stdout.flush()\n",
        "      \n",
        "    last_percent_reported = percent\n",
        "        \n",
        "def maybe_download(filename, expected_bytes, force=False):\n",
        "  \"\"\"Download a file if not present, and make sure it's the right size.\"\"\"\n",
        "  dest_filename = os.path.join(data_root, filename)\n",
        "  if force or not os.path.exists(dest_filename):\n",
        "    print('Attempting to download:', filename) \n",
        "    filename, _ = urlretrieve(url + filename, dest_filename, reporthook=download_progress_hook)\n",
        "    print('\\nDownload Complete!')\n",
        "  statinfo = os.stat(dest_filename)\n",
        "  if statinfo.st_size == expected_bytes:\n",
        "    print('Found and verified', dest_filename)\n",
        "  else:\n",
        "    raise Exception(\n",
        "      'Failed to verify ' + dest_filename + '. Can you get to it with a browser?')\n",
        "  return dest_filename\n",
        "\n",
        "train_filename = maybe_download('notMNIST_large.tar.gz', 247336696)\n",
        "test_filename = maybe_download('notMNIST_small.tar.gz', 8458043)"
      ],
      "execution_count": 7,
      "outputs": [
        {
          "output_type": "stream",
          "text": [
            "Attempting to download: notMNIST_large.tar.gz\n",
            "0%....5%....10%....15%....20%....25%....30%....35%....40%....45%....50%....55%....60%....65%....70%....75%....80%....85%....90%....95%....100%\n",
            "Download Complete!\n",
            "Found and verified ./notMNIST_large.tar.gz\n",
            "Attempting to download: notMNIST_small.tar.gz\n",
            "0%....5%....10%....15%....20%....25%....30%....35%....40%....45%....50%....55%....60%....65%....70%....75%....80%....85%....90%....95%....100%\n",
            "Download Complete!\n",
            "Found and verified ./notMNIST_small.tar.gz\n"
          ],
          "name": "stdout"
        }
      ]
    },
    {
      "metadata": {
        "id": "cC3p0oEyF8QT",
        "colab_type": "text"
      },
      "cell_type": "markdown",
      "source": [
        "Extract the dataset from the compressed .tar.gz file.\n",
        "This should give you a set of directories, labeled A through J."
      ]
    },
    {
      "metadata": {
        "id": "H8CBE-WZ8nmj",
        "colab_type": "code",
        "colab": {
          "base_uri": "https://localhost:8080/",
          "height": 108
        },
        "outputId": "60156bd0-46bb-49c6-81c7-9e2bfe74fa6a"
      },
      "cell_type": "code",
      "source": [
        "num_classes = 10\n",
        "np.random.seed(133)\n",
        "\n",
        "def maybe_extract(filename, force=False):\n",
        "  root = os.path.splitext(os.path.splitext(filename)[0])[0]  # remove .tar.gz\n",
        "  if os.path.isdir(root) and not force:\n",
        "    # You may override by setting force=True.\n",
        "    print('%s already present - Skipping extraction of %s.' % (root, filename))\n",
        "  else:\n",
        "    print('Extracting data for %s. This may take a while. Please wait.' % root)\n",
        "    tar = tarfile.open(filename)\n",
        "    sys.stdout.flush()\n",
        "    tar.extractall(data_root)\n",
        "    tar.close()\n",
        "  data_folders = [\n",
        "    os.path.join(root, d) for d in sorted(os.listdir(root))\n",
        "    if os.path.isdir(os.path.join(root, d))]\n",
        "  if len(data_folders) != num_classes:\n",
        "    raise Exception(\n",
        "      'Expected %d folders, one per class. Found %d instead.' % (\n",
        "        num_classes, len(data_folders)))\n",
        "  print(data_folders)\n",
        "  return data_folders\n",
        "  \n",
        "train_folders = maybe_extract(train_filename)\n",
        "test_folders = maybe_extract(test_filename)"
      ],
      "execution_count": 8,
      "outputs": [
        {
          "output_type": "stream",
          "text": [
            "Extracting data for ./notMNIST_large. This may take a while. Please wait.\n",
            "['./notMNIST_large/A', './notMNIST_large/B', './notMNIST_large/C', './notMNIST_large/D', './notMNIST_large/E', './notMNIST_large/F', './notMNIST_large/G', './notMNIST_large/H', './notMNIST_large/I', './notMNIST_large/J']\n",
            "Extracting data for ./notMNIST_small. This may take a while. Please wait.\n",
            "['./notMNIST_small/A', './notMNIST_small/B', './notMNIST_small/C', './notMNIST_small/D', './notMNIST_small/E', './notMNIST_small/F', './notMNIST_small/G', './notMNIST_small/H', './notMNIST_small/I', './notMNIST_small/J']\n"
          ],
          "name": "stdout"
        }
      ]
    },
    {
      "metadata": {
        "id": "4riXK3IoHgx6",
        "colab_type": "text"
      },
      "cell_type": "markdown",
      "source": [
        "---\n",
        "Problem 1\n",
        "---------\n",
        "\n",
        "Let's take a peek at some of the data to make sure it looks sensible. Each exemplar should be an image of a character A through J rendered in a different font. Display a sample of the images that we just downloaded. Hint: you can use the package IPython.display.\n",
        "\n",
        "---"
      ]
    },
    {
      "metadata": {
        "id": "XcsHwZoKWBsZ",
        "colab_type": "code",
        "colab": {
          "base_uri": "https://localhost:8080/",
          "height": 45
        },
        "outputId": "0d6ce93b-3fdd-4c8b-c19b-07fc3978df6b"
      },
      "cell_type": "code",
      "source": [
        "display(Image(filename=\"notMNIST_small/A/Q0NXaWxkV29yZHMtQm9sZEl0YWxpYy50dGY=.png\"))"
      ],
      "execution_count": 9,
      "outputs": [
        {
          "output_type": "display_data",
          "data": {
            "image/png": "[encoded data removed]",
            "text/plain": [
              "<IPython.core.display.Image object>"
            ]
          },
          "metadata": {
            "tags": []
          }
        }
      ]
    },
    {
      "metadata": {
        "id": "1yCh-20oMnVX",
        "colab_type": "code",
        "colab": {
          "base_uri": "https://localhost:8080/",
          "height": 1286
        },
        "outputId": "ce2d4341-7716-4bb2-ab2f-0f81dfd165c2"
      },
      "cell_type": "code",
      "source": [
        "def display_sample_images(data_folders):\n",
        "  for folder in data_folders:\n",
        "    # Display sample image\n",
        "    sample_file = [os.path.join(folder, f) for f in os.listdir(data_folders[0])][0]\n",
        "    print ('sample folder ', folder)\n",
        "    print ('sample image to display ', sample_file)\n",
        "    display(Image(filename=sample_file))\n",
        "\n",
        "display_sample_images(train_folders)\n",
        "display_sample_images(test_folders)\n"
      ],
      "execution_count": 10,
      "outputs": [
        {
          "output_type": "stream",
          "text": [
            "sample folder  ./notMNIST_large/A\n",
            "sample image to display  ./notMNIST_large/A/RnV0dXJhRnV0dXJpc1NoYWRvd0Mub3Rm.png\n"
          ],
          "name": "stdout"
        },
        {
          "output_type": "display_data",
          "data": {
            "image/png": "[encoded data removed]",
            "text/plain": [
              "<IPython.core.display.Image object>"
            ]
          },
          "metadata": {
            "tags": []
          }
        },
        {
          "output_type": "stream",
          "text": [
            "sample folder  ./notMNIST_large/B\n",
            "sample image to display  ./notMNIST_large/B/RnV0dXJhRnV0dXJpc1NoYWRvd0Mub3Rm.png\n"
          ],
          "name": "stdout"
        },
        {
          "output_type": "display_data",
          "data": {
            "image/png": "[encoded data removed]",
            "text/plain": [
              "<IPython.core.display.Image object>"
            ]
          },
          "metadata": {
            "tags": []
          }
        },
        {
          "output_type": "stream",
          "text": [
            "sample folder  ./notMNIST_large/C\n",
            "sample image to display  ./notMNIST_large/C/RnV0dXJhRnV0dXJpc1NoYWRvd0Mub3Rm.png\n"
          ],
          "name": "stdout"
        },
        {
          "output_type": "display_data",
          "data": {
            "image/png": "[encoded data removed]",
            "text/plain": [
              "<IPython.core.display.Image object>"
            ]
          },
          "metadata": {
            "tags": []
          }
        },
        {
          "output_type": "stream",
          "text": [
            "sample folder  ./notMNIST_large/D\n",
            "sample image to display  ./notMNIST_large/D/RnV0dXJhRnV0dXJpc1NoYWRvd0Mub3Rm.png\n"
          ],
          "name": "stdout"
        },
        {
          "output_type": "display_data",
          "data": {
            "image/png": "[encoded data removed]",
            "text/plain": [
              "<IPython.core.display.Image object>"
            ]
          },
          "metadata": {
            "tags": []
          }
        },
        {
          "output_type": "stream",
          "text": [
            "sample folder  ./notMNIST_large/E\n",
            "sample image to display  ./notMNIST_large/E/RnV0dXJhRnV0dXJpc1NoYWRvd0Mub3Rm.png\n"
          ],
          "name": "stdout"
        },
        {
          "output_type": "display_data",
          "data": {
            "image/png": "[encoded data removed]",
            "text/plain": [
              "<IPython.core.display.Image object>"
            ]
          },
          "metadata": {
            "tags": []
          }
        },
        {
          "output_type": "stream",
          "text": [
            "sample folder  ./notMNIST_large/F\n",
            "sample image to display  ./notMNIST_large/F/RnV0dXJhRnV0dXJpc1NoYWRvd0Mub3Rm.png\n"
          ],
          "name": "stdout"
        },
        {
          "output_type": "display_data",
          "data": {
            "image/png": "[encoded data removed]",
            "text/plain": [
              "<IPython.core.display.Image object>"
            ]
          },
          "metadata": {
            "tags": []
          }
        },
        {
          "output_type": "stream",
          "text": [
            "sample folder  ./notMNIST_large/G\n",
            "sample image to display  ./notMNIST_large/G/RnV0dXJhRnV0dXJpc1NoYWRvd0Mub3Rm.png\n"
          ],
          "name": "stdout"
        },
        {
          "output_type": "display_data",
          "data": {
            "image/png": "[encoded data removed]",
            "text/plain": [
              "<IPython.core.display.Image object>"
            ]
          },
          "metadata": {
            "tags": []
          }
        },
        {
          "output_type": "stream",
          "text": [
            "sample folder  ./notMNIST_large/H\n",
            "sample image to display  ./notMNIST_large/H/RnV0dXJhRnV0dXJpc1NoYWRvd0Mub3Rm.png\n"
          ],
          "name": "stdout"
        },
        {
          "output_type": "display_data",
          "data": {
            "image/png": "[encoded data removed]",
            "text/plain": [
              "<IPython.core.display.Image object>"
            ]
          },
          "metadata": {
            "tags": []
          }
        },
        {
          "output_type": "stream",
          "text": [
            "sample folder  ./notMNIST_large/I\n",
            "sample image to display  ./notMNIST_large/I/RnV0dXJhRnV0dXJpc1NoYWRvd0Mub3Rm.png\n"
          ],
          "name": "stdout"
        },
        {
          "output_type": "display_data",
          "data": {
            "image/png": "[encoded data removed]",
            "text/plain": [
              "<IPython.core.display.Image object>"
            ]
          },
          "metadata": {
            "tags": []
          }
        },
        {
          "output_type": "stream",
          "text": [
            "sample folder  ./notMNIST_large/J\n",
            "sample image to display  ./notMNIST_large/J/RnV0dXJhRnV0dXJpc1NoYWRvd0Mub3Rm.png\n"
          ],
          "name": "stdout"
        },
        {
          "output_type": "display_data",
          "data": {
            "image/png": "[encoded data removed]",
            "text/plain": [
              "<IPython.core.display.Image object>"
            ]
          },
          "metadata": {
            "tags": []
          }
        },
        {
          "output_type": "stream",
          "text": [
            "sample folder  ./notMNIST_small/A\n",
            "sample image to display  ./notMNIST_small/A/Q2FuZHkgU3RyaXBlIChCUkspLnR0Zg==.png\n"
          ],
          "name": "stdout"
        },
        {
          "output_type": "display_data",
          "data": {
            "image/png": "[encoded data removed]",
            "text/plain": [
              "<IPython.core.display.Image object>"
            ]
          },
          "metadata": {
            "tags": []
          }
        },
        {
          "output_type": "stream",
          "text": [
            "sample folder  ./notMNIST_small/B\n",
            "sample image to display  ./notMNIST_small/B/Q2FuZHkgU3RyaXBlIChCUkspLnR0Zg==.png\n"
          ],
          "name": "stdout"
        },
        {
          "output_type": "display_data",
          "data": {
            "image/png": "[encoded data removed]",
            "text/plain": [
              "<IPython.core.display.Image object>"
            ]
          },
          "metadata": {
            "tags": []
          }
        },
        {
          "output_type": "stream",
          "text": [
            "sample folder  ./notMNIST_small/C\n",
            "sample image to display  ./notMNIST_small/C/Q2FuZHkgU3RyaXBlIChCUkspLnR0Zg==.png\n"
          ],
          "name": "stdout"
        },
        {
          "output_type": "display_data",
          "data": {
            "image/png": "[encoded data removed]",
            "text/plain": [
              "<IPython.core.display.Image object>"
            ]
          },
          "metadata": {
            "tags": []
          }
        },
        {
          "output_type": "stream",
          "text": [
            "sample folder  ./notMNIST_small/D\n",
            "sample image to display  ./notMNIST_small/D/Q2FuZHkgU3RyaXBlIChCUkspLnR0Zg==.png\n"
          ],
          "name": "stdout"
        },
        {
          "output_type": "display_data",
          "data": {
            "image/png": "[encoded data removed]",
            "text/plain": [
              "<IPython.core.display.Image object>"
            ]
          },
          "metadata": {
            "tags": []
          }
        },
        {
          "output_type": "stream",
          "text": [
            "sample folder  ./notMNIST_small/E\n",
            "sample image to display  ./notMNIST_small/E/Q2FuZHkgU3RyaXBlIChCUkspLnR0Zg==.png\n"
          ],
          "name": "stdout"
        },
        {
          "output_type": "display_data",
          "data": {
            "image/png": "[encoded data removed]",
            "text/plain": [
              "<IPython.core.display.Image object>"
            ]
          },
          "metadata": {
            "tags": []
          }
        },
        {
          "output_type": "stream",
          "text": [
            "sample folder  ./notMNIST_small/F\n",
            "sample image to display  ./notMNIST_small/F/Q2FuZHkgU3RyaXBlIChCUkspLnR0Zg==.png\n"
          ],
          "name": "stdout"
        },
        {
          "output_type": "display_data",
          "data": {
            "image/png": "[encoded data removed]",
            "text/plain": [
              "<IPython.core.display.Image object>"
            ]
          },
          "metadata": {
            "tags": []
          }
        },
        {
          "output_type": "stream",
          "text": [
            "sample folder  ./notMNIST_small/G\n",
            "sample image to display  ./notMNIST_small/G/Q2FuZHkgU3RyaXBlIChCUkspLnR0Zg==.png\n"
          ],
          "name": "stdout"
        },
        {
          "output_type": "display_data",
          "data": {
            "image/png": "[encoded data removed]",
            "text/plain": [
              "<IPython.core.display.Image object>"
            ]
          },
          "metadata": {
            "tags": []
          }
        },
        {
          "output_type": "stream",
          "text": [
            "sample folder  ./notMNIST_small/H\n",
            "sample image to display  ./notMNIST_small/H/Q2FuZHkgU3RyaXBlIChCUkspLnR0Zg==.png\n"
          ],
          "name": "stdout"
        },
        {
          "output_type": "display_data",
          "data": {
            "image/png": "[encoded data removed]",
            "text/plain": [
              "<IPython.core.display.Image object>"
            ]
          },
          "metadata": {
            "tags": []
          }
        },
        {
          "output_type": "stream",
          "text": [
            "sample folder  ./notMNIST_small/I\n",
            "sample image to display  ./notMNIST_small/I/Q2FuZHkgU3RyaXBlIChCUkspLnR0Zg==.png\n"
          ],
          "name": "stdout"
        },
        {
          "output_type": "display_data",
          "data": {
            "image/png": "[encoded data removed]",
            "text/plain": [
              "<IPython.core.display.Image object>"
            ]
          },
          "metadata": {
            "tags": []
          }
        },
        {
          "output_type": "stream",
          "text": [
            "sample folder  ./notMNIST_small/J\n",
            "sample image to display  ./notMNIST_small/J/Q2FuZHkgU3RyaXBlIChCUkspLnR0Zg==.png\n"
          ],
          "name": "stdout"
        },
        {
          "output_type": "display_data",
          "data": {
            "image/png": "[encoded data removed]",
            "text/plain": [
              "<IPython.core.display.Image object>"
            ]
          },
          "metadata": {
            "tags": []
          }
        }
      ]
    },
    {
      "metadata": {
        "id": "PBdkjESPK8tw",
        "colab_type": "text"
      },
      "cell_type": "markdown",
      "source": [
        "Now let's load the data in a more manageable format. Since, depending on your computer setup you might not be able to fit it all in memory, we'll load each class into a separate dataset, store them on disk and curate them independently. Later we'll merge them into a single dataset of manageable size.\n",
        "\n",
        "We'll convert the entire dataset into a 3D array (image index, x, y) of floating point values, normalized to have approximately zero mean and standard deviation ~0.5 to make training easier down the road. \n",
        "\n",
        "A few images might not be readable, we'll just skip them."
      ]
    },
    {
      "metadata": {
        "id": "h7q0XhG3MJdf",
        "colab_type": "code",
        "colab": {
          "base_uri": "https://localhost:8080/",
          "height": 1932
        },
        "outputId": "82eacfff-d523-4b6b-c3bc-b0e81ef45a08"
      },
      "cell_type": "code",
      "source": [
        "image_size = 28  # Pixel width and height.\n",
        "pixel_depth = 255.0  # Number of levels per pixel.\n",
        "\n",
        "def load_letter(folder, min_num_images):\n",
        "  \"\"\"Load the data for a single letter label.\"\"\"\n",
        "  image_files = os.listdir(folder)\n",
        "  dataset = np.ndarray(shape=(len(image_files), image_size, image_size),\n",
        "                         dtype=np.float32)\n",
        "  print(folder)\n",
        "  num_images = 0\n",
        "  for image in image_files:\n",
        "    image_file = os.path.join(folder, image)\n",
        "    try:\n",
        "      image_data = (imageio.imread(image_file).astype(float) - \n",
        "                    pixel_depth / 2) / pixel_depth\n",
        "      if image_data.shape != (image_size, image_size):\n",
        "        raise Exception('Unexpected image shape: %s' % str(image_data.shape))\n",
        "      dataset[num_images, :, :] = image_data\n",
        "      num_images = num_images + 1\n",
        "    except (IOError, ValueError) as e:\n",
        "      print('Could not read:', image_file, ':', e, '- it\\'s ok, skipping.')\n",
        "    \n",
        "  dataset = dataset[0:num_images, :, :]\n",
        "  if num_images < min_num_images:\n",
        "    raise Exception('Many fewer images than expected: %d < %d' %\n",
        "                    (num_images, min_num_images))\n",
        "    \n",
        "  print('Full dataset tensor:', dataset.shape)\n",
        "  print('Mean:', np.mean(dataset))\n",
        "  print('Standard deviation:', np.std(dataset))\n",
        "  return dataset\n",
        "        \n",
        "def maybe_pickle(data_folders, min_num_images_per_class, force=False):\n",
        "  dataset_names = []\n",
        "  for folder in data_folders:\n",
        "    set_filename = folder + '.pickle'\n",
        "    dataset_names.append(set_filename)\n",
        "    if os.path.exists(set_filename) and not force:\n",
        "      # You may override by setting force=True.\n",
        "      print('%s already present - Skipping pickling.' % set_filename)\n",
        "    else:\n",
        "      print('Pickling %s.' % set_filename)\n",
        "      dataset = load_letter(folder, min_num_images_per_class)\n",
        "      try:\n",
        "        with open(set_filename, 'wb') as f:\n",
        "          pickle.dump(dataset, f, pickle.HIGHEST_PROTOCOL)\n",
        "      except Exception as e:\n",
        "        print('Unable to save data to', set_filename, ':', e)\n",
        "  \n",
        "  return dataset_names\n",
        "\n",
        "train_datasets = maybe_pickle(train_folders, 45000)\n",
        "test_datasets = maybe_pickle(test_folders, 1800)"
      ],
      "execution_count": 11,
      "outputs": [
        {
          "output_type": "stream",
          "text": [
            "Pickling ./notMNIST_large/A.pickle.\n",
            "./notMNIST_large/A\n",
            "Could not read: ./notMNIST_large/A/RnJlaWdodERpc3BCb29rSXRhbGljLnR0Zg==.png : Could not find a format to read the specified file in mode 'i' - it's ok, skipping.\n",
            "Could not read: ./notMNIST_large/A/SG90IE11c3RhcmQgQlROIFBvc3Rlci50dGY=.png : Could not find a format to read the specified file in mode 'i' - it's ok, skipping.\n",
            "Could not read: ./notMNIST_large/A/Um9tYW5hIEJvbGQucGZi.png : Could not find a format to read the specified file in mode 'i' - it's ok, skipping.\n",
            "Full dataset tensor: (52909, 28, 28)\n",
            "Mean: -0.12825032\n",
            "Standard deviation: 0.44312066\n",
            "Pickling ./notMNIST_large/B.pickle.\n",
            "./notMNIST_large/B\n",
            "Could not read: ./notMNIST_large/B/TmlraXNFRi1TZW1pQm9sZEl0YWxpYy5vdGY=.png : Could not find a format to read the specified file in mode 'i' - it's ok, skipping.\n",
            "Full dataset tensor: (52911, 28, 28)\n",
            "Mean: -0.0075630266\n",
            "Standard deviation: 0.45449162\n",
            "Pickling ./notMNIST_large/C.pickle.\n",
            "./notMNIST_large/C\n",
            "Full dataset tensor: (52912, 28, 28)\n",
            "Mean: -0.14225796\n",
            "Standard deviation: 0.43980646\n",
            "Pickling ./notMNIST_large/D.pickle.\n",
            "./notMNIST_large/D\n",
            "Could not read: ./notMNIST_large/D/VHJhbnNpdCBCb2xkLnR0Zg==.png : Could not find a format to read the specified file in mode 'i' - it's ok, skipping.\n",
            "Full dataset tensor: (52911, 28, 28)\n",
            "Mean: -0.057367772\n",
            "Standard deviation: 0.45564777\n",
            "Pickling ./notMNIST_large/E.pickle.\n",
            "./notMNIST_large/E\n",
            "Full dataset tensor: (52912, 28, 28)\n",
            "Mean: -0.06989899\n",
            "Standard deviation: 0.45294148\n",
            "Pickling ./notMNIST_large/F.pickle.\n",
            "./notMNIST_large/F\n",
            "Full dataset tensor: (52912, 28, 28)\n",
            "Mean: -0.12558335\n",
            "Standard deviation: 0.44708964\n",
            "Pickling ./notMNIST_large/G.pickle.\n",
            "./notMNIST_large/G\n",
            "Full dataset tensor: (52912, 28, 28)\n",
            "Mean: -0.094581544\n",
            "Standard deviation: 0.4462399\n",
            "Pickling ./notMNIST_large/H.pickle.\n",
            "./notMNIST_large/H\n",
            "Full dataset tensor: (52912, 28, 28)\n",
            "Mean: -0.068522125\n",
            "Standard deviation: 0.45423168\n",
            "Pickling ./notMNIST_large/I.pickle.\n",
            "./notMNIST_large/I\n",
            "Full dataset tensor: (52912, 28, 28)\n",
            "Mean: 0.030786214\n",
            "Standard deviation: 0.46889856\n",
            "Pickling ./notMNIST_large/J.pickle.\n",
            "./notMNIST_large/J\n",
            "Full dataset tensor: (52911, 28, 28)\n",
            "Mean: -0.15335847\n",
            "Standard deviation: 0.44365627\n",
            "Pickling ./notMNIST_small/A.pickle.\n",
            "./notMNIST_small/A\n",
            "Could not read: ./notMNIST_small/A/RGVtb2NyYXRpY2FCb2xkT2xkc3R5bGUgQm9sZC50dGY=.png : Could not find a format to read the specified file in mode 'i' - it's ok, skipping.\n",
            "Full dataset tensor: (1872, 28, 28)\n",
            "Mean: -0.13262635\n",
            "Standard deviation: 0.445128\n",
            "Pickling ./notMNIST_small/B.pickle.\n",
            "./notMNIST_small/B\n",
            "Full dataset tensor: (1873, 28, 28)\n",
            "Mean: 0.005356084\n",
            "Standard deviation: 0.45711535\n",
            "Pickling ./notMNIST_small/C.pickle.\n",
            "./notMNIST_small/C\n",
            "Full dataset tensor: (1873, 28, 28)\n",
            "Mean: -0.1415206\n",
            "Standard deviation: 0.44269028\n",
            "Pickling ./notMNIST_small/D.pickle.\n",
            "./notMNIST_small/D\n",
            "Full dataset tensor: (1873, 28, 28)\n",
            "Mean: -0.049216673\n",
            "Standard deviation: 0.4597589\n",
            "Pickling ./notMNIST_small/E.pickle.\n",
            "./notMNIST_small/E\n",
            "Full dataset tensor: (1873, 28, 28)\n",
            "Mean: -0.059914775\n",
            "Standard deviation: 0.4573497\n",
            "Pickling ./notMNIST_small/F.pickle.\n",
            "./notMNIST_small/F\n",
            "Could not read: ./notMNIST_small/F/Q3Jvc3NvdmVyIEJvbGRPYmxpcXVlLnR0Zg==.png : Could not find a format to read the specified file in mode 'i' - it's ok, skipping.\n",
            "Full dataset tensor: (1872, 28, 28)\n",
            "Mean: -0.11818529\n",
            "Standard deviation: 0.45227855\n",
            "Pickling ./notMNIST_small/G.pickle.\n",
            "./notMNIST_small/G\n",
            "Full dataset tensor: (1872, 28, 28)\n",
            "Mean: -0.0925503\n",
            "Standard deviation: 0.4490059\n",
            "Pickling ./notMNIST_small/H.pickle.\n",
            "./notMNIST_small/H\n",
            "Full dataset tensor: (1872, 28, 28)\n",
            "Mean: -0.05868925\n",
            "Standard deviation: 0.45875898\n",
            "Pickling ./notMNIST_small/I.pickle.\n",
            "./notMNIST_small/I\n",
            "Full dataset tensor: (1872, 28, 28)\n",
            "Mean: 0.052645072\n",
            "Standard deviation: 0.47189343\n",
            "Pickling ./notMNIST_small/J.pickle.\n",
            "./notMNIST_small/J\n",
            "Full dataset tensor: (1872, 28, 28)\n",
            "Mean: -0.1516892\n",
            "Standard deviation: 0.44801363\n"
          ],
          "name": "stdout"
        }
      ]
    },
    {
      "metadata": {
        "id": "vUdbskYE2d87",
        "colab_type": "text"
      },
      "cell_type": "markdown",
      "source": [
        "---\n",
        "Problem 2\n",
        "---------\n",
        "\n",
        "Let's verify that the data still looks good. Displaying a sample of the labels and images from the ndarray. Hint: you can use matplotlib.pyplot.\n",
        "\n",
        "---"
      ]
    },
    {
      "metadata": {
        "id": "7Q4lom0kcSPs",
        "colab_type": "code",
        "colab": {
          "base_uri": "https://localhost:8080/",
          "height": 265
        },
        "outputId": "85693115-7598-414d-847e-2bf1b1f8e9ee"
      },
      "cell_type": "code",
      "source": [
        "pickle_file = train_datasets[2]  # index 0 should be all As, 1 = all Bs, etc.\n",
        "with open(pickle_file, 'rb') as f:\n",
        "    letter_set = pickle.load(f)  # unpickle\n",
        "    sample_idx = np.random.randint(len(letter_set))  # pick a random image index\n",
        "    sample_image = letter_set[sample_idx, :, :]  # extract a 2D slice\n",
        "    plt.figure()\n",
        "    plt.imshow(sample_image,cmap='Purples')  # display it"
      ],
      "execution_count": 12,
      "outputs": [
        {
          "output_type": "display_data",
          "data": {
            "image/png": "[encoded data removed]",
            "text/plain": [
              "<matplotlib.figure.Figure at 0x7f1947ec0c50>"
            ]
          },
          "metadata": {
            "tags": []
          }
        }
      ]
    },
    {
      "metadata": {
        "id": "j1uaZUBcYk2h",
        "colab_type": "code",
        "colab": {
          "base_uri": "https://localhost:8080/",
          "height": 5560
        },
        "outputId": "d3164f49-7317-4e0c-fe2f-95a02aad4a16"
      },
      "cell_type": "code",
      "source": [
        "def display_sample_images_from_dataset(dataset, labels, sample_size):\n",
        "  image_samples = np.random.randint(dataset.shape[0],size=sample_size)\n",
        "  for image_index in image_samples:\n",
        "    plt.figure()\n",
        "    plt.suptitle('Label ' + \n",
        "                 `labels[image_index]` + ' : ' + \n",
        "                 chr(ord('a') + labels[image_index]) +  ' or ' + \n",
        "                 chr(ord('A') + labels[image_index]))\n",
        "    plt.imshow(dataset[image_index])\n",
        "    \n",
        "display_sample_images_from_dataset(train_dataset, train_labels, 10)\n",
        "\n",
        "display_sample_images_from_dataset(test_dataset, test_labels, 10)"
      ],
      "execution_count": 18,
      "outputs": [
        {
          "output_type": "display_data",
          "data": {
            "image/png": "[encoded data removed]",
            "text/plain": [
              "<matplotlib.figure.Figure at 0x7f19303b0e50>"
            ]
          },
          "metadata": {
            "tags": []
          }
        },
        {
          "output_type": "display_data",
          "data": {
            "image/png": "[encoded data removed]",
            "text/plain": [
              "<matplotlib.figure.Figure at 0x7f1947ec04d0>"
            ]
          },
          "metadata": {
            "tags": []
          }
        },
        {
          "output_type": "display_data",
          "data": {
            "image/png": "[encoded data removed]",
            "text/plain": [
              "<matplotlib.figure.Figure at 0x7f1947897650>"
            ]
          },
          "metadata": {
            "tags": []
          }
        },
        {
          "output_type": "display_data",
          "data": {
            "image/png": "[encoded data removed]",
            "text/plain": [
              "<matplotlib.figure.Figure at 0x7f1935caa610>"
            ]
          },
          "metadata": {
            "tags": []
          }
        },
        {
          "output_type": "display_data",
          "data": {
            "image/png": "[encoded data removed]",
            "text/plain": [
              "<matplotlib.figure.Figure at 0x7f1935cc2650>"
            ]
          },
          "metadata": {
            "tags": []
          }
        },
        {
          "output_type": "display_data",
          "data": {
            "image/png": "[encoded data removed]",
            "text/plain": [
              "<matplotlib.figure.Figure at 0x7f1947003450>"
            ]
          },
          "metadata": {
            "tags": []
          }
        },
        {
          "output_type": "display_data",
          "data": {
            "image/png": "[encoded data removed]",
            "text/plain": [
              "<matplotlib.figure.Figure at 0x7f193e4cf9d0>"
            ]
          },
          "metadata": {
            "tags": []
          }
        },
        {
          "output_type": "display_data",
          "data": {
            "image/png": "[encoded data removed]",
            "text/plain": [
              "<matplotlib.figure.Figure at 0x7f1934e9df50>"
            ]
          },
          "metadata": {
            "tags": []
          }
        },
        {
          "output_type": "display_data",
          "data": {
            "image/png": "[encoded data removed]",
            "text/plain": [
              "<matplotlib.figure.Figure at 0x7f1934ebe3d0>"
            ]
          },
          "metadata": {
            "tags": []
          }
        },
        {
          "output_type": "display_data",
          "data": {
            "image/png": "[encoded data removed]",
            "text/plain": [
              "<matplotlib.figure.Figure at 0x7f19471bda10>"
            ]
          },
          "metadata": {
            "tags": []
          }
        },
        {
          "output_type": "display_data",
          "data": {
            "image/png": "[encoded data removed]",
            "text/plain": [
              "<matplotlib.figure.Figure at 0x7f19303b0ed0>"
            ]
          },
          "metadata": {
            "tags": []
          }
        },
        {
          "output_type": "display_data",
          "data": {
            "image/png": "[encoded data removed]",
            "text/plain": [
              "<matplotlib.figure.Figure at 0x7f194715b450>"
            ]
          },
          "metadata": {
            "tags": []
          }
        },
        {
          "output_type": "display_data",
          "data": {
            "image/png": "[encoded data removed]",
            "text/plain": [
              "<matplotlib.figure.Figure at 0x7f1947123950>"
            ]
          },
          "metadata": {
            "tags": []
          }
        },
        {
          "output_type": "display_data",
          "data": {
            "image/png": "[encoded data removed]",
            "text/plain": [
              "<matplotlib.figure.Figure at 0x7f19470e4790>"
            ]
          },
          "metadata": {
            "tags": []
          }
        },
        {
          "output_type": "display_data",
          "data": {
            "image/png": "[encoded data removed]",
            "text/plain": [
              "<matplotlib.figure.Figure at 0x7f1946d9bc90>"
            ]
          },
          "metadata": {
            "tags": []
          }
        },
        {
          "output_type": "display_data",
          "data": {
            "image/png": "[encoded data removed]",
            "text/plain": [
              "<matplotlib.figure.Figure at 0x7f1946d6f1d0>"
            ]
          },
          "metadata": {
            "tags": []
          }
        },
        {
          "output_type": "display_data",
          "data": {
            "image/png": "[encoded data removed]",
            "text/plain": [
              "<matplotlib.figure.Figure at 0x7f1946d376d0>"
            ]
          },
          "metadata": {
            "tags": []
          }
        },
        {
          "output_type": "display_data",
          "data": {
            "image/png": "[encoded data removed]",
            "text/plain": [
              "<matplotlib.figure.Figure at 0x7f1946cf9410>"
            ]
          },
          "metadata": {
            "tags": []
          }
        },
        {
          "output_type": "display_data",
          "data": {
            "image/png": "[encoded data removed]",
            "text/plain": [
              "<matplotlib.figure.Figure at 0x7f1946cc3b90>"
            ]
          },
          "metadata": {
            "tags": []
          }
        },
        {
          "output_type": "display_data",
          "data": {
            "image/png": "[encoded data removed]",
            "text/plain": [
              "<matplotlib.figure.Figure at 0x7f1946c1c2d0>"
            ]
          },
          "metadata": {
            "tags": []
          }
        }
      ]
    },
    {
      "metadata": {
        "id": "cYznx5jUwzoO",
        "colab_type": "text"
      },
      "cell_type": "markdown",
      "source": [
        "---\n",
        "Problem 3\n",
        "---------\n",
        "Another check: we expect the data to be balanced across classes. Verify that.\n",
        "\n",
        "---"
      ]
    },
    {
      "metadata": {
        "id": "lfyf9w8ZcUP9",
        "colab_type": "code",
        "colab": {
          "base_uri": "https://localhost:8080/",
          "height": 35
        },
        "outputId": "4b8d9d7e-a66e-43e6-9c0a-a3553529bf3f"
      },
      "cell_type": "code",
      "source": [
        "letter_set = []\n",
        "\n",
        "for i in range(len(train_datasets)):\n",
        "  pickle_file = train_datasets[i]   \n",
        "  with open(pickle_file, 'rb') as f:\n",
        "      letter_set.append(pickle.load(f))\n",
        "    \n",
        "type(letter_set[1])"
      ],
      "execution_count": 13,
      "outputs": [
        {
          "output_type": "execute_result",
          "data": {
            "text/plain": [
              "numpy.ndarray"
            ]
          },
          "metadata": {
            "tags": []
          },
          "execution_count": 13
        }
      ]
    },
    {
      "metadata": {
        "id": "qUWHq3MLmXfv",
        "colab_type": "code",
        "colab": {
          "base_uri": "https://localhost:8080/",
          "height": 176
        },
        "outputId": "ba78cef0-c426-4544-ba38-f7a29f82c74b"
      },
      "cell_type": "code",
      "source": [
        "s = []\n",
        "for i in range(len(train_datasets)):\n",
        "  s.append(letter_set[i].shape[0])\n",
        "  \n",
        "s = pd.Series(s)\n",
        "s.describe()  "
      ],
      "execution_count": 14,
      "outputs": [
        {
          "output_type": "execute_result",
          "data": {
            "text/plain": [
              "count       10.000000\n",
              "mean     52911.400000\n",
              "std          0.966092\n",
              "min      52909.000000\n",
              "25%      52911.000000\n",
              "50%      52912.000000\n",
              "75%      52912.000000\n",
              "max      52912.000000\n",
              "dtype: float64"
            ]
          },
          "metadata": {
            "tags": []
          },
          "execution_count": 14
        }
      ]
    },
    {
      "metadata": {
        "id": "lL-SLH1MZPGe",
        "colab_type": "code",
        "colab": {
          "base_uri": "https://localhost:8080/",
          "height": 88
        },
        "outputId": "f7f7949d-7284-4fd0-ca30-d69883fdfccb"
      },
      "cell_type": "code",
      "source": [
        "def get_class_distribution(dataset, labels):\n",
        "  class_instances_count = np.zeros(num_classes)\n",
        "  for image_index in range(0, dataset.shape[0] - 1):\n",
        "    class_instances_count[labels[image_index]] += 1;\n",
        "    \n",
        "  return class_instances_count * 100 / class_instances_count.sum()\n",
        "    \n",
        "print ('Percentage of number of instances for each class label of total', num_classes, 'classes in test data set' )\n",
        "class_distribution = get_class_distribution(train_dataset, train_labels)\n",
        "print (class_distribution);\n",
        "print ('sd =', class_distribution.std())"
      ],
      "execution_count": 23,
      "outputs": [
        {
          "output_type": "stream",
          "text": [
            "Percentage of number of instances for each class label of total 10 classes in test data set\n",
            "[10.00005 10.00005 10.00005 10.00005  9.99955 10.00005 10.00005 10.00005\n",
            " 10.00005 10.00005]\n",
            "sd = 0.0001500007500034428\n"
          ],
          "name": "stdout"
        }
      ]
    },
    {
      "metadata": {
        "id": "LA7M7K22ynCt",
        "colab_type": "text"
      },
      "cell_type": "markdown",
      "source": [
        "Merge and prune the training data as needed. Depending on your computer setup, you might not be able to fit it all in memory, and you can tune `train_size` as needed. The labels will be stored into a separate array of integers 0 through 9.\n",
        "\n",
        "Also create a validation dataset for hyperparameter tuning."
      ]
    },
    {
      "metadata": {
        "id": "s3mWgZLpyuzq",
        "colab_type": "code",
        "colab": {
          "base_uri": "https://localhost:8080/",
          "height": 70
        },
        "outputId": "7f9367fd-2b0c-4c00-efeb-442ea582c665"
      },
      "cell_type": "code",
      "source": [
        "def make_arrays(nb_rows, img_size):\n",
        "  if nb_rows:\n",
        "    dataset = np.ndarray((nb_rows, img_size, img_size), dtype=np.float32)\n",
        "    labels = np.ndarray(nb_rows, dtype=np.int32)\n",
        "  else:\n",
        "    dataset, labels = None, None\n",
        "  return dataset, labels\n",
        "\n",
        "def merge_datasets(pickle_files, train_size, valid_size=0):\n",
        "  num_classes = len(pickle_files)\n",
        "  valid_dataset, valid_labels = make_arrays(valid_size, image_size)\n",
        "  train_dataset, train_labels = make_arrays(train_size, image_size)\n",
        "  vsize_per_class = valid_size // num_classes\n",
        "  tsize_per_class = train_size // num_classes\n",
        "    \n",
        "  start_v, start_t = 0, 0\n",
        "  end_v, end_t = vsize_per_class, tsize_per_class\n",
        "  end_l = vsize_per_class+tsize_per_class\n",
        "  for label, pickle_file in enumerate(pickle_files):       \n",
        "    try:\n",
        "      with open(pickle_file, 'rb') as f:\n",
        "        letter_set = pickle.load(f)\n",
        "        # let's shuffle the letters to have random validation and training set\n",
        "        np.random.shuffle(letter_set)\n",
        "        if valid_dataset is not None:\n",
        "          valid_letter = letter_set[:vsize_per_class, :, :]\n",
        "          valid_dataset[start_v:end_v, :, :] = valid_letter\n",
        "          valid_labels[start_v:end_v] = label\n",
        "          start_v += vsize_per_class\n",
        "          end_v += vsize_per_class\n",
        "                    \n",
        "        train_letter = letter_set[vsize_per_class:end_l, :, :]\n",
        "        train_dataset[start_t:end_t, :, :] = train_letter\n",
        "        train_labels[start_t:end_t] = label\n",
        "        start_t += tsize_per_class\n",
        "        end_t += tsize_per_class\n",
        "    except Exception as e:\n",
        "      print('Unable to process data from', pickle_file, ':', e)\n",
        "      raise\n",
        "    \n",
        "  return valid_dataset, valid_labels, train_dataset, train_labels\n",
        "            \n",
        "            \n",
        "train_size = 200000\n",
        "valid_size = 10000\n",
        "test_size = 10000\n",
        "\n",
        "valid_dataset, valid_labels, train_dataset, train_labels = merge_datasets(\n",
        "  train_datasets, train_size, valid_size)\n",
        "_, _, test_dataset, test_labels = merge_datasets(test_datasets, test_size)\n",
        "\n",
        "print('Training:', train_dataset.shape, train_labels.shape)\n",
        "print('Validation:', valid_dataset.shape, valid_labels.shape)\n",
        "print('Testing:', test_dataset.shape, test_labels.shape)"
      ],
      "execution_count": 15,
      "outputs": [
        {
          "output_type": "stream",
          "text": [
            "Training: (200000, 28, 28) (200000,)\n",
            "Validation: (10000, 28, 28) (10000,)\n",
            "Testing: (10000, 28, 28) (10000,)\n"
          ],
          "name": "stdout"
        }
      ]
    },
    {
      "metadata": {
        "id": "GPTCnjIcyuKN",
        "colab_type": "text"
      },
      "cell_type": "markdown",
      "source": [
        "Next, we'll randomize the data. It's important to have the labels well shuffled for the training and test distributions to match."
      ]
    },
    {
      "metadata": {
        "id": "6WZ2l2tN2zOL",
        "colab_type": "code",
        "colab": {}
      },
      "cell_type": "code",
      "source": [
        "def randomize(dataset, labels):\n",
        "  permutation = np.random.permutation(labels.shape[0])\n",
        "  shuffled_dataset = dataset[permutation,:,:]\n",
        "  shuffled_labels = labels[permutation]\n",
        "  return shuffled_dataset, shuffled_labels\n",
        "train_dataset, train_labels = randomize(train_dataset, train_labels)\n",
        "test_dataset, test_labels = randomize(test_dataset, test_labels)\n",
        "valid_dataset, valid_labels = randomize(valid_dataset, valid_labels)"
      ],
      "execution_count": 0,
      "outputs": []
    },
    {
      "metadata": {
        "id": "puDUTe6t6USl",
        "colab_type": "text"
      },
      "cell_type": "markdown",
      "source": [
        "---\n",
        "Problem 4\n",
        "---------\n",
        "Convince yourself that the data is still good after shuffling!\n",
        "\n",
        "---"
      ]
    },
    {
      "metadata": {
        "id": "lXbrMlGNnzHr",
        "colab_type": "code",
        "colab": {
          "base_uri": "https://localhost:8080/",
          "height": 318
        },
        "outputId": "7e3ae67d-dd4f-401d-a61c-8700155e2b51"
      },
      "cell_type": "code",
      "source": [
        "print('Training:', train_dataset.shape, train_labels.shape)\n",
        "print('Validation:', valid_dataset.shape, valid_labels.shape)\n",
        "print('Testing:', test_dataset.shape, test_labels.shape)\n",
        "sample_image = train_dataset[33] # extract a 2D slice\n",
        "plt.figure()\n",
        "plt.imshow(sample_image,cmap='Purples')\n",
        "plt.show()"
      ],
      "execution_count": 17,
      "outputs": [
        {
          "output_type": "stream",
          "text": [
            "Training: (200000, 28, 28) (200000,)\n",
            "Validation: (10000, 28, 28) (10000,)\n",
            "Testing: (10000, 28, 28) (10000,)\n"
          ],
          "name": "stdout"
        },
        {
          "output_type": "display_data",
          "data": {
            "image/png": "[encoded data removed]",
            "text/plain": [
              "<matplotlib.figure.Figure at 0x7f1947ecd850>"
            ]
          },
          "metadata": {
            "tags": []
          }
        }
      ]
    },
    {
      "metadata": {
        "id": "tIQJaJuwg5Hw",
        "colab_type": "text"
      },
      "cell_type": "markdown",
      "source": [
        "Finally, let's save the data for later reuse:"
      ]
    },
    {
      "metadata": {
        "id": "QiR_rETzem6C",
        "colab_type": "code",
        "colab": {}
      },
      "cell_type": "code",
      "source": [
        "pickle_file = os.path.join(data_root, 'notMNIST.pickle')\n",
        "\n",
        "try:\n",
        "  f = open(pickle_file, 'wb')\n",
        "  save = {\n",
        "    'train_dataset': train_dataset,\n",
        "    'train_labels': train_labels,\n",
        "    'valid_dataset': valid_dataset,\n",
        "    'valid_labels': valid_labels,\n",
        "    'test_dataset': test_dataset,\n",
        "    'test_labels': test_labels,\n",
        "    }\n",
        "  pickle.dump(save, f, pickle.HIGHEST_PROTOCOL)\n",
        "  f.close()\n",
        "except Exception as e:\n",
        "  print('Unable to save data to', pickle_file, ':', e)\n",
        "  raise"
      ],
      "execution_count": 0,
      "outputs": []
    },
    {
      "metadata": {
        "id": "hQbLjrW_iT39",
        "colab_type": "code",
        "colab": {
          "base_uri": "https://localhost:8080/",
          "height": 35
        },
        "outputId": "fc1a80bf-7ee1-4bb0-b641-6d1e51f0c6a8"
      },
      "cell_type": "code",
      "source": [
        "statinfo = os.stat(pickle_file)\n",
        "print('Compressed pickle size:', statinfo.st_size)"
      ],
      "execution_count": 20,
      "outputs": [
        {
          "output_type": "stream",
          "text": [
            "Compressed pickle size: 690800441\n"
          ],
          "name": "stdout"
        }
      ]
    },
    {
      "metadata": {
        "id": "gE_cRAQB33lk",
        "colab_type": "text"
      },
      "cell_type": "markdown",
      "source": [
        "---\n",
        "Problem 5\n",
        "---------\n",
        "\n",
        "By construction, this dataset might contain a lot of overlapping samples, including training data that's also contained in the validation and test set! Overlap between training and test can skew the results if you expect to use your model in an environment where there is never an overlap, but are actually ok if you expect to see training samples recur when you use it.\n",
        "Measure how much overlap there is between training, validation and test samples.\n",
        "\n",
        "Optional questions:\n",
        "- What about near duplicates between datasets? (images that are almost identical)\n",
        "- Create a sanitized validation and test set, and compare your accuracy on those in subsequent assignments.\n",
        "---"
      ]
    },
    {
      "metadata": {
        "id": "ta4CegnPZ-rC",
        "colab_type": "code",
        "colab": {
          "base_uri": "https://localhost:8080/",
          "height": 52
        },
        "outputId": "8a16fb22-7e11-4c10-ec3f-8afd147d85e6"
      },
      "cell_type": "code",
      "source": [
        "from hashlib import sha1\n",
        "\n",
        "def get_count_exact_overlaps(dataset1, dataset2):\n",
        "  dataset1_hash = [\n",
        "                   sha1(dataset1_instance).digest() \n",
        "                   for dataset1_instance in dataset1\n",
        "                  ]\n",
        "  dataset2_hash = [\n",
        "                   sha1(dataset2_instance).digest() \n",
        "                   for dataset2_instance in dataset2\n",
        "                  ]\n",
        "  return np.intersect1d(dataset1_hash, dataset2_hash).size\n",
        "    \n",
        "print ('Count of exact overlaping instances between valid and train dataset : ' + `get_count_exact_overlaps(valid_dataset, train_dataset)`)\n",
        "print ('Count of exact overlaping instances between test and train dataset : ' + `get_count_exact_overlaps(test_dataset, train_dataset)`)\n",
        "\n"
      ],
      "execution_count": 29,
      "outputs": [
        {
          "output_type": "stream",
          "text": [
            "Count of exact overlaping instances between valid and train dataset : 960\n",
            "Count of exact overlaping instances between test and train dataset : 1099\n"
          ],
          "name": "stdout"
        }
      ]
    },
    {
      "metadata": {
        "id": "ZKLIHyuXcN9V",
        "colab_type": "code",
        "colab": {
          "base_uri": "https://localhost:8080/",
          "height": 52
        },
        "outputId": "59ba7830-9c24-40dc-9f0a-aeb2f9dc211f"
      },
      "cell_type": "code",
      "source": [
        "# Get hash on similarity rather than strict matching\n",
        "# i.e, find near duplicates instead of strict duplicates\n",
        "def get_custom_hash(instance):\n",
        "  difference = []\n",
        "  for row in range(0, 28):\n",
        "    for col in range(0, 27):\n",
        "      difference.append(instance[col][row]  > instance[col + 1][row])\n",
        "  return sha1(np.array(difference).astype(int))\n",
        "\n",
        "def get_count_overlaps(dataset1, dataset2):\n",
        "  dataset1_hash = [\n",
        "                   get_custom_hash(dataset1_instance).digest() \n",
        "                   for dataset1_instance in dataset1\n",
        "                  ]\n",
        "  dataset2_hash = [\n",
        "                   get_custom_hash(dataset2_instance).digest() \n",
        "                   for dataset2_instance in dataset2\n",
        "                  ]\n",
        "  return np.intersect1d(dataset1_hash, dataset2_hash).size\n",
        "    \n",
        "print ('Count of overlaping instances between valid and train dataset : ' + `get_count_overlaps(valid_dataset, train_dataset)`)\n",
        "print ('Count of overlaping instances between test and train dataset : ' + `get_count_overlaps(test_dataset, train_dataset)`)\n"
      ],
      "execution_count": 32,
      "outputs": [
        {
          "output_type": "stream",
          "text": [
            "Count of overlaping instances between valid and train dataset : 1063\n",
            "Count of overlaping instances between test and train dataset : 1193\n"
          ],
          "name": "stdout"
        }
      ]
    },
    {
      "metadata": {
        "id": "pcA_ZQ6UpwKd",
        "colab_type": "code",
        "colab": {
          "base_uri": "https://localhost:8080/",
          "height": 70
        },
        "outputId": "ff5d70c1-92ca-4169-98cc-8fd194b71042"
      },
      "cell_type": "code",
      "source": [
        "# another form\n",
        "\n",
        "\n",
        "import time\n",
        "\n",
        "def check_overlaps(images1, images2):\n",
        "    images1.flags.writeable=False\n",
        "    images2.flags.writeable=False\n",
        "    start = time.clock()\n",
        "    hash1 = set([hash(image1.data) for image1 in images1])\n",
        "    hash2 = set([hash(image2.data) for image2 in images2])\n",
        "    all_overlaps = set.intersection(hash1, hash2)\n",
        "    return all_overlaps, time.clock()-start\n",
        "\n",
        "r, execTime = check_overlaps(train_dataset, test_dataset)    \n",
        "print('Number of overlaps between training and test sets: {}. Execution time: {}.'.format(len(r), execTime))\n",
        "\n",
        "r, execTime = check_overlaps(train_dataset, valid_dataset)   \n",
        "print('Number of overlaps between training and validation sets: {}. Execution time: {}.'.format(len(r), execTime))\n",
        "\n",
        "r, execTime = check_overlaps(valid_dataset, test_dataset) \n",
        "print('Number of overlaps between validation and test sets: {}. Execution time: {}.'.format(len(r), execTime))"
      ],
      "execution_count": 33,
      "outputs": [
        {
          "output_type": "stream",
          "text": [
            "Number of overlaps between training and test sets: 1099. Execution time: 1.240414.\n",
            "Number of overlaps between training and validation sets: 960. Execution time: 1.245626.\n",
            "Number of overlaps between validation and test sets: 59. Execution time: 0.1316.\n"
          ],
          "name": "stdout"
        }
      ]
    },
    {
      "metadata": {
        "id": "DZIsxiYJpwGG",
        "colab_type": "code",
        "colab": {
          "base_uri": "https://localhost:8080/",
          "height": 88
        },
        "outputId": "123c386a-1900-424e-82a1-8d6af7d70cb7"
      },
      "cell_type": "code",
      "source": [
        "def get_dataset_hash(dataset):\n",
        "  return [\n",
        "          sha1(dataset_instance).digest() \n",
        "          for dataset_instance in dataset\n",
        "         ]\n",
        "\n",
        "train_dataset_hash = get_dataset_hash(train_dataset)\n",
        "valid_dataset_hash = get_dataset_hash(valid_dataset)\n",
        "test_dataset_hash = get_dataset_hash(test_dataset)\n",
        "\n",
        "duplicates_in_train_and_valid_dataset = np.intersect1d(train_dataset_hash, valid_dataset_hash)\n",
        "duplicates_in_train_and_test_dataset = np.intersect1d(train_dataset_hash, test_dataset_hash)\n",
        "duplicates_in_valid_and_test_dataset = np.intersect1d(test_dataset_hash, valid_dataset_hash)\n",
        "\n",
        "duplicates = np.hstack(\n",
        "                       (duplicates_in_train_and_valid_dataset,\n",
        "                        duplicates_in_train_and_test_dataset,\n",
        "                        duplicates_in_valid_and_test_dataset)\n",
        "                      )\n",
        "\n",
        "def get_sanitize(dataset, dataset_hash, exclude_hash):\n",
        "  return np.array([\n",
        "                   dataset[index] for index in \n",
        "                   np.arange(dataset.shape[0]) if\n",
        "                   dataset_hash[index] not in \n",
        "                   exclude_hash\n",
        "                 ])\n",
        "\n",
        "sanitized_valid_dataset = get_sanitize(valid_dataset, valid_dataset_hash, duplicates)\n",
        "sanitized_test_dataset = get_sanitize(test_dataset, test_dataset_hash, duplicates)\n",
        "\n",
        "print ('original valid dataset shape',  valid_dataset.shape)\n",
        "print ('sanitized valid dataset shape', sanitized_valid_dataset.shape)\n",
        "print ('original test dataset shape',  test_dataset.shape)\n",
        "print ('sanitized test dataset shape', sanitized_test_dataset.shape)\n",
        "\n"
      ],
      "execution_count": 34,
      "outputs": [
        {
          "output_type": "stream",
          "text": [
            "original valid dataset shape (10000, 28, 28)\n",
            "sanitized valid dataset shape (8900, 28, 28)\n",
            "original test dataset shape (10000, 28, 28)\n",
            "sanitized test dataset shape (8723, 28, 28)\n"
          ],
          "name": "stdout"
        }
      ]
    },
    {
      "metadata": {
        "id": "rVdP5m9OpwDg",
        "colab_type": "code",
        "colab": {}
      },
      "cell_type": "code",
      "source": [
        ""
      ],
      "execution_count": 0,
      "outputs": []
    },
    {
      "metadata": {
        "id": "_taQFrsfpv4Z",
        "colab_type": "code",
        "colab": {}
      },
      "cell_type": "code",
      "source": [
        ""
      ],
      "execution_count": 0,
      "outputs": []
    },
    {
      "metadata": {
        "id": "L8oww1s4JMQx",
        "colab_type": "text"
      },
      "cell_type": "markdown",
      "source": [
        "---\n",
        "Problem 6\n",
        "---------\n",
        "\n",
        "Let's get an idea of what an off-the-shelf classifier can give you on this data. It's always good to check that there is something to learn, and that it's a problem that is not so trivial that a canned solution solves it.\n",
        "\n",
        "Train a simple model on this data using 50, 100, 1000 and 5000 training samples. Hint: you can use the LogisticRegression model from sklearn.linear_model.\n",
        "\n",
        "Optional question: train an off-the-shelf model on all the data!\n",
        "\n",
        "---"
      ]
    },
    {
      "metadata": {
        "id": "CIKpfcK3uTKg",
        "colab_type": "code",
        "colab": {
          "base_uri": "https://localhost:8080/",
          "height": 1523
        },
        "outputId": "4bda2eac-ab56-4682-ecfe-f792525247a2"
      },
      "cell_type": "code",
      "source": [
        "from scipy import ndimage\n",
        "from sklearn.linear_model import LogisticRegression\n",
        "from sklearn import metrics\n",
        "\n",
        "\n",
        "def get_classifier(dataset, labels, sample_size):\n",
        "  train_n_dataset = dataset[:sample_size, :, :]\n",
        "  train_n_labels = labels[:sample_size]\n",
        "  # convert to 2d\n",
        "  train_n_dataset = train_n_dataset.reshape(sample_size, image_size * image_size)\n",
        "  model = LogisticRegression()\n",
        "  model.fit(train_n_dataset, train_n_labels)\n",
        "  \n",
        "  return model\n",
        "\n",
        "def run_test(classifier, test_name):\n",
        " print ('Test result of classifier, ', test_name)\n",
        " test_dataset2d = test_dataset.reshape(test_dataset.shape[0], image_size * image_size)\n",
        " predicted = classifier.predict(test_dataset2d)\n",
        " print(metrics.classification_report(test_labels, predicted))\n",
        " print ('accuracy ', 100 * classifier.score(test_dataset2d, test_labels), '%')\n",
        "    \n",
        "clf50 = get_classifier(train_dataset, train_labels, 50)\n",
        "run_test(clf50, 'classifier50')\n",
        "\n",
        "clf100 = get_classifier(train_dataset, train_labels, 100)\n",
        "run_test(clf100, 'classifier100')\n",
        "\n",
        "clf1000 = get_classifier(train_dataset, train_labels, 1000)\n",
        "run_test(clf1000, 'classifier1000')\n",
        "\n",
        "clf5000 = get_classifier(train_dataset, train_labels, 5000)\n",
        "run_test(clf5000, 'classifier5000')\n",
        "\n",
        "clf_all = get_classifier(train_dataset, train_labels, train_dataset.shape[0])\n",
        "run_test(clf_all, 'classifier_all')\n"
      ],
      "execution_count": 135,
      "outputs": [
        {
          "output_type": "stream",
          "text": [
            "Test result of classifier,  classifier50\n",
            "             precision    recall  f1-score   support\n",
            "\n",
            "          0       0.83      0.63      0.72      1000\n",
            "          1       0.41      0.26      0.32      1000\n",
            "          2       0.68      0.74      0.71      1000\n",
            "          3       0.67      0.88      0.76      1000\n",
            "          4       0.49      0.71      0.58      1000\n",
            "          5       0.72      0.80      0.76      1000\n",
            "          6       0.81      0.66      0.73      1000\n",
            "          7       0.66      0.71      0.68      1000\n",
            "          8       0.50      0.85      0.63      1000\n",
            "          9       0.58      0.03      0.06      1000\n",
            "\n",
            "avg / total       0.64      0.63      0.59     10000\n",
            "\n",
            "accuracy  62.74999999999999 %\n",
            "Test result of classifier,  classifier100\n",
            "             precision    recall  f1-score   support\n",
            "\n",
            "          0       0.91      0.58      0.71      1000\n",
            "          1       0.72      0.69      0.70      1000\n",
            "          2       0.82      0.72      0.77      1000\n",
            "          3       0.83      0.85      0.84      1000\n",
            "          4       0.58      0.41      0.48      1000\n",
            "          5       0.55      0.89      0.68      1000\n",
            "          6       0.67      0.83      0.74      1000\n",
            "          7       0.75      0.72      0.73      1000\n",
            "          8       0.75      0.78      0.77      1000\n",
            "          9       0.82      0.77      0.80      1000\n",
            "\n",
            "avg / total       0.74      0.72      0.72     10000\n",
            "\n",
            "accuracy  72.43 %\n",
            "Test result of classifier,  classifier1000\n",
            "             precision    recall  f1-score   support\n",
            "\n",
            "          0       0.84      0.85      0.84      1000\n",
            "          1       0.83      0.79      0.81      1000\n",
            "          2       0.77      0.84      0.80      1000\n",
            "          3       0.87      0.88      0.88      1000\n",
            "          4       0.76      0.81      0.78      1000\n",
            "          5       0.85      0.84      0.85      1000\n",
            "          6       0.87      0.75      0.81      1000\n",
            "          7       0.84      0.84      0.84      1000\n",
            "          8       0.83      0.83      0.83      1000\n",
            "          9       0.86      0.86      0.86      1000\n",
            "\n",
            "avg / total       0.83      0.83      0.83     10000\n",
            "\n",
            "accuracy  82.97 %\n",
            "Test result of classifier,  classifier5000\n",
            "             precision    recall  f1-score   support\n",
            "\n",
            "          0       0.85      0.87      0.86      1000\n",
            "          1       0.84      0.82      0.83      1000\n",
            "          2       0.84      0.89      0.87      1000\n",
            "          3       0.89      0.89      0.89      1000\n",
            "          4       0.83      0.79      0.81      1000\n",
            "          5       0.84      0.87      0.85      1000\n",
            "          6       0.89      0.83      0.86      1000\n",
            "          7       0.88      0.85      0.86      1000\n",
            "          8       0.81      0.82      0.82      1000\n",
            "          9       0.84      0.88      0.86      1000\n",
            "\n",
            "avg / total       0.85      0.85      0.85     10000\n",
            "\n",
            "accuracy  85.11999999999999 %\n",
            "Test result of classifier,  classifier_all\n",
            "             precision    recall  f1-score   support\n",
            "\n",
            "          0       0.92      0.89      0.91      1000\n",
            "          1       0.90      0.86      0.88      1000\n",
            "          2       0.88      0.93      0.90      1000\n",
            "          3       0.92      0.93      0.92      1000\n",
            "          4       0.89      0.83      0.86      1000\n",
            "          5       0.87      0.92      0.90      1000\n",
            "          6       0.91      0.88      0.89      1000\n",
            "          7       0.92      0.88      0.90      1000\n",
            "          8       0.83      0.85      0.84      1000\n",
            "          9       0.86      0.92      0.89      1000\n",
            "\n",
            "avg / total       0.89      0.89      0.89     10000\n",
            "\n",
            "accuracy  88.92 %\n"
          ],
          "name": "stdout"
        }
      ]
    }
  ]
}